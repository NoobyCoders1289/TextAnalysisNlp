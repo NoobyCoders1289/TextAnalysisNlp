{
 "cells": [
  {
   "cell_type": "code",
   "execution_count": 11,
   "metadata": {},
   "outputs": [],
   "source": [
    "# Importing Modules\n",
    "from datetime import date\n",
    "import json\n",
    "import os\n",
    "import re\n",
    "import pathlib\n",
    "import warnings\n",
    "\n",
    "import neattext.functions as nfx\n",
    "import pandas as pd\n",
    "from configparser import ConfigParser\n",
    "\n",
    "warnings.filterwarnings('ignore')\n"
   ]
  },
  {
   "cell_type": "code",
   "execution_count": 12,
   "metadata": {},
   "outputs": [],
   "source": [
    "config_path = os.path.join(pathlib.Path().absolute().parent, 'config.ini')\n",
    "config = ConfigParser()\n",
    "config.read(config_path)\n",
    "path = config['path']['static_csvfiles']\n"
   ]
  },
  {
   "cell_type": "code",
   "execution_count": 15,
   "metadata": {},
   "outputs": [
    {
     "name": "stdout",
     "output_type": "stream",
     "text": [
      "a:  (11599, 11)\n",
      "duplicated count: (0, 11)\n",
      "b:  (11598, 11)\n"
     ]
    }
   ],
   "source": [
    "df = pd.read_csv(os.path.join(path, 'rawdata/final_link.csv'))\n",
    "print(\"a: \", df.shape)\n",
    "df.dropna(subset=['tweet'], inplace=True)\n",
    "print(f\"duplicated count: {df[df.duplicated()].shape}\")\n",
    "df.drop_duplicates(subset=['tweet_id', 'user_id', 'created_at', 'tweet'], keep='last', inplace=True, ignore_index=True)\n",
    "print(\"b: \", df.shape)\n",
    "\n"
   ]
  },
  {
   "cell_type": "code",
   "execution_count": 64,
   "metadata": {},
   "outputs": [
    {
     "name": "stdout",
     "output_type": "stream",
     "text": [
      "['shetland', 'stem', 'team', 'bsw2022', 'spotlighton5g', 'mwc22', 'hacked', 'stalked', 'spycop', 'hacking', 'hacked', 'stalked', 'spycop', 'hacking', 'digitaldivide', '5g', 'divaawards2022', 'bryonyjacksondoward', 'divaawards2022', 'bt', 'pointless', 'hacked', 'stalked', 'spycop', 'hacking', 'hacked', 'stalked', 'spycop', 'hacking', 'freealexsaab', 'defamed', 'russiareport', 'corrupted', 'defamed', 'russiareport', 'corrupted', 'defamed', 'russiareport', 'corrupted', 'defamed', 'russiareport', 'corrupted', 'hacked', 'stalked', 'spycop', 'hacking', 'bsw2022', 'education', 'youngpeople', 'science', 'technology', 'engineering', 'mathematics', 'stem', 'xtndnet', 'broadband', 'hacked', 'stalked', 'spycop', 'hacking', 'hacked', 'stalked', 'spycop', 'hacking', 'hacked', 'stalked', 'spycop', 'hacking', 'hacked', 'stalked', 'spycop', 'hacking', 'hacked', 'stalked', 'spycop', 'hacking', 'cardiff', 'ukmfg', 'bt', 'telecoms', 'gbmfg', 'telecommunications', 'defamed', 'russiareport', 'corrupted', 'defamed', 'russiareport', 'corrupted', 'defamed', 'russiareport', 'corrupted', 'defamed', 'russiareport', 'corrupted', 'defamed', 'russiareport', 'corrupted', 'defamed', 'russiareport', 'corrupted', 'defamed', 'russiareport', 'corrupted', 'crap', 'virginmedia', 'help', 'hacked', 'stalked', 'spycop', 'hacking', 'hacked', 'stalked', 'spycop', 'hacking', 'hacked', 'stalked', 'spycop', 'hacking', 'hacked', 'stalked', 'spycop', 'hacking', 'hacked', 'stalked', 'spycop', 'hacking', 'hacked', 'stalked', 'spycop', 'hacking', 'hacked', 'stalked', 'spycop', 'savile', 'savile', 'savile', 'getconnected', 'techtitans', 'tiglive', 'techindustrygold', 'tiglive', 'defamed', 'russiareport', 'corrupted', 'defamed', 'russiareport', 'corrupted', 'defamed', 'russiareport', 'corrupted', 'defamed', 'russiareport', 'corrupted', 'defamed', 'russiareport', 'corrupted', 'tiglive2022', 'techindustrygold', 'tiglive', 'defamed', 'russiareport', 'corrupted', 'tiglive', 'techindustrylive', 'defamed', 'russiareport', 'corrupted', 'misogynistic', 'vipchildsexabuse', 'vipcharityfraud', 'techindustrygoldlive', 'tiglive', 'tiglive', 'techindustrygoldlive', 'rcs', 'brandcommunication', 'customernegagement', 'cpaas', 'mobilemessaging', 'techindustrygold', 'tiglive', 'tiglive', 'techindustrygoldlive', 'tiglive', 'creditsummit22', 'tiglive', 'techindustrygold', 'tiglive', 'techindustrygold', 'techindustrygoldlive', 'bsw22', 'manutd', 'freeahmadmanasra', 'virginmedia', 'fifa22', 'hopeunited', 'poorservice', 'complaint', 'broadband', 'btcustomerservice', 'btbroadband', 'btbroadband', 'bt', 'btcustomerservice', 'btshoddyservice', 'btbroadband', 'btcustomerservice', 'btbadservice', 'freethedata', 'builtforwonderful', 'notworking', '4g', '5g', 'harrogate', 'signlanguageweek', 'myee', 'complaint', 'btr', 'bts', 'buildtorent', 'homeviews', 'residentreviews', 'ltc', 'c98', 'ethereum', 'corporateaccountability', 'corporateresponsibility', 'dosomething', 'victimblaming', 'survivorshaming', 'metoo', 'coercivecontrol', 'financialabuse', 'domesticabuse', 'day1040', '3401', 'longliveyourtech', '5g', 'poorcustomerservice', 'disappointed', 'ee', 'minecraftnsfw', 'klimarettung', 'erneuerbareenergien', 'versorgungssicherheit', 'klimaschädlichen', 'grüne', 'vomendrherdenken', 'ee', 'formula1', 'القمي_مجسم_فكيف_وثقوه_الشيعه', 'sortitoit', 'corporateaccountability', 'corporateresponsibility', 'dosomething', 'victimblaming', 'survivorshaming', 'metoo', 'coercivecontrol', 'financialabuse', 'domesticabuse', 'day1042', 'handsoffourhomes', '5g', 'signlanguageweek', 'fixedprices', 'notreallyamobilecarrier', 'corporateaccountability', 'corporateresponsibility', 'dosomething', 'victimblaming', 'survivorshaming', 'metoo', 'coercivecontrol', 'financialabuse', 'domesticabuse', 'day1041', 'eebaftas', 'fullfibre', 'eebaftas', 'eebaftas', 'eebaftas', 'fullfibre', 'poorservice', 'irregularadministration', 'nomorebeaurocrocy', 'poorcustomerservice', 'disappointed', 'ee', 'poorservice', 'samsungs22ultra', 'altcoins', 'cryptonews', 'airdrop', 'poorcustomerservice', 'grateful', 'airdrop', 'bsc', 'dinococoin', 'nfts', 'ee', 'poorcustomerservice', 'dreamholiday', 'dreamholiday', 'dreamholiday', 'dreamholiday', 'verymerewards', 'dreamholiday', 'win', 'dreamholiday', 'verymerewards', 'dreamholiday', 'verymerewards', 'win', 'dreamholiday', 'dreamholiday', 'verymerewards', 'dreamholiday', 'dreamholiday', 'dreamholiday', 'verymerewards', 'dreamholiday', 'verymerewards', 'dreamholiday', 'dreamholiday', 'vodafone', 'dreamholiday', 'dreamholiday', 'dreamholiday', 'dreamholiday', 'dreamholiday', 'dreamholiday', 'beunlimited', 'togetherwecan', 'feeltheconnection', 'vodafone', 'vodafoneuk', 'dreamholiday', 'dreamholiday', 'dreamholiday', 'dreamholiday', 'dreamholiday', 'dreamholiday', 'dreamholiday', 'verymerewards', 'verymerewards', 'win', 'verymerewards', 'dreamholiday', 'dreamholiday', 'dreamholiday', 'dreamholiday', 'dreamholiday', 'dreamholiday', 'iceland', 'dreamholiday', 'win', 'dreamholiday', 'verymerewards', 'dreamholiday', 'verymerewards', 'dreamholiday', 'dreamholiday', 'dreamholiday', 'dreamholiday', 'dreamholiday', 'dreamholiday', 'dreamholiday', 'dreamholiday', 'dreamholiday', 'dreamholiday', 'dreamholiday', 'dreamholiday', 'dreamholiday', 'misleading', 'verymerewards', 'xiaomi12series', 'mastereveryscene', 'fom22', 'vodafonetreats', 'veryme', 'vodafonetreats', 'happytohelp', 'windsor', 'handymanservices', 'propertymaintenance', 'propertyinvestment', 'propertyservices', 'renaulttrafic', 's21plus', 'windsor', 'handymanservices', 'propertymaintenance', 'propertyinvestment', 'propertyservices', 'renaulttrafic', 's21plus', 'energy', 'energy', 'energyimpairment', 'vodafail', 'vodafonedown', 'tech', 'ios', 'iphone', 'phones', 'datapoverty', 'buildingmobilebritain', 'mobilemonday', '5gcheckthefacts', 'upgrade', 'free', 'ee', 'fiit', 'retailjobs', 'guildfordjobs', 'surreyjobs', '5g', 'augmentedreality', 'retailtech', 'avatars', 'retailtechnology', 'samsung', 'chromebook', 'dpd', 'consumeless', 'ee', 'wheresmycarrierpigeon', 'advertising', 'southgateout', 'younglions', 'southgateout', 'digitalvoice', 'finddiane', 'younglions', 'engand', 'u21euro', 'younglions', 'avfc', 'devisha', 'terebinajiyajayena', 'zeetvhd', 'zeetvuk', 'avineshrekhi', 'anjalitatrari', 'howididit', 'podcast', 'kundalibhagya', 'zeetvhd', 'zeetvuk', 'virginmedia', 'disgrace', 'virginscam', 'broadband', 'youandyours', 'wv68u', 'mothersday2022', 'f1', 'pando', 'reconnectme', 'virginmedia', 'respectloyalty', 'auful', 'virginmedia', 'vmothersdaytimeback', 'dreamholiday', 'dreamholiday', 'nightcycling', 'slough', 'streetphotography', 'a6000', 'dreamholiday', 'verymerewards', 'handymanservices', 'propertymaintenance', 'propertyinvestment', 'propertyservices', 'renaulttrafic', 's21plus', 'brexit', 'borisjohnson', 'endwar', 'freedom', 'peace', 'dreamholiday', 'lovetheneo', 'dreamholiday', 'lovetheneo', 'poorcustomerservice', 'ceo', 'ceo', 'poorleadership', 'poorcustomerservice', 'dreamholiday', 'dreamholiday', 'digitalpoverty', 'poorcustomerservice', 'dreamholiday', 'customerservice', 'poorcustomerservice', 'dreamholiday', 'poorcustomerservice', 'poorcustomerservice', 'poorcustomerservice', 'ceo', 'ceo', 'ceo', 'ceo', 'ceo', 'poorcustomerservice', 'a6000', 'a6000', 'a6000', 'samsunggalaxys22', 'poorcustomerservice', 'poorcustomerservice', 'poorcustomerservice', 'poorcustomerservice', 'poorcustomerservice', 'stillwaiting', 'poorcustomerservice', 'dreamholiday', 'poorcustomerservice', 'ghosting', 'poorcustomerservice', 'poorcustomwrservice', 'poorcustomerservice', 'meta', 's21plus', 'meta', 's21plus', 'jojopizzas', 'portraitphotography', 'withgalaxy', 's21plus', 'exploring', 'archeology', 'grandunioncanal', 'lumix', 'fz1000', 'exploring', 'archeology', 'grandunioncanal', 's21', 'dreamholiday', 'dreamholiday', 'dreamholiday', 'verymerewards', 'uttoxeter', 'oneplus9pro', 'onceawasp', 'vodafone', 'poorcustomerservice', 'voucher', 'code', 'vodafonebroadband', 'dreamholiday', 'help', 'lovetheneo', 'suningdale', 'handymanservices', 'diy', 'propertymaintenance', 'propertyinvestment', 'propertyservices', 'renaulttrafic', 's21plus', 'lovetheneo', 'lovetheneo', 'lovetheneo', 'slough', 'datchet', 'windsor', 'eton', 'streetphotography', 'a6000', 'slough', 'datchet', 'windsor', 'eton', 'streetphotography', 'a6000', 'slough', 'datchet', 'windsor', 'eton', 'streetphotography', 'a6000', 'slough', 'datchet', 'windsor', 'eton', 'streetphotography', 'a6000', 'lovetheneo', 'lovetheneo', 'dreamholiday', 'vodafone', 'lovetheneo', 'lionsrugby', 'lovetheneo', 'lovetheneo', 'digitalpoverty', 'mlawards22', 'voucher', 'code', 'vodafonebroadband', 'dreamholiday', 'feelgoodfriday', 'lovetheneo', 'help', '5g', 'tech', 'data', 'digital', 'lovetheneo', 'crazy', 'lovetheneo', 'suningdale', 'bwphotography', 'streetphotography', 's21plus', 'suningdale', 'handymanservices', 'propertymaintenance', 'propertyinvestment', 'propertyservices', 'renaulttrafic', 's21plus', 'suningdale', 'surrey', 'diy', 'propertymaintenance', 'propertyinvestment', 'propertyservices', 'renaulttrafic', 's21plus', 'slough', 'bwphotography', 'streetphotography', 'lumix', 'fz1000', 'dreamholiday', 'dreamholiday', 'lovetheneo', 'devops', 'award', 'makeitamazing', 'useless', 'lovetheneo', 'lovetheneo', 'lovetheneo', 'lovetheneo', 'lovetheneo', 'dreamholiday', 'lovetheneo', 'universitychallenge', 'nosignal', 'moonknight', 'jubileeline', 'somedaysstaygoldforever', 'ne10', 'cafenero', 'freebies', 'teamvmo2', 'incubus', 'o2priority', 'incubus', 'o2priority', 'phone', 'firstworldproblems', 'mondaymotivaton', 'mondayvibes', 'monday', 'esim', 'kizzdaniel', 'bitcoin', 'ethereum', 'bnb', 'solana', 'chainlink', 'polkadot', 'cardano', 'xrp', 'polygon', 'dogecoin', 'altcoin', 'vechain', 'cro', 'shib', 'elonmusk', 'coinmarketcap', 'altcoins', 'crypto', 'nft', 'mothersday', 'preston', '5g', 'mobile', 'coverage', 'belize', 'ashcroft', 'mothersday', 'mothersday', 'stormzy', 'mothersday', 'mothersday', 'o2', '5g', 'fail', 'preston', 'scunthorpe', 'business', 'wedding', 'belize', 'ashcroft', 'obotakeoverthe02', 'davidoattheo2', 'davidowrblo2liveudux', 'davido𓃵', 'mothersday', 'mothersday', 'boxing', 'riakporhejumah', 'o2', 'cardiff', 'virginmediao2', 'retail', 'wales', 'notfitforpurpose', 'dataloss', 'justin', 'fellow', 'meetingrequest', 'carersfirst', 'meetthefunders', 'impactonlife', 'britishvalues', 'paythevictims', 'thankyou', 'myfamily', 'myself', 'payday', 'goodmorningbritain', 'laura', 'ninjawarrior', 'yes', 'dataloss', 'sar', 'archives', 'devonandcornwall', 'lbwf', 'cv', 'mcentee', 'traveller', 'boroughtoborough', 'honorarydegree', 'diplomatic', 'csr', 'weartherose', 'ofcom', 'weartherose', 'yourewelcome', 'fuming', 'o2angels', 'o2', 'genesis', 'genesisband', 'weartherose', 'o2', 'onlywanttoupgrade', 'wasittimetogohome', 'weartherose', 'slow', 'o2', 'customerservice', 'o2surprise', 'sponsorship', 'shannonryan', 'boxing', 'boxingnews', 'sport', 'costoflivingcrisis', 'poorcustomerservice', 'timetochange', 'redroses', 'scoveng', 'weartherose', 'london', 'o2', 'realissuesbackintheday', 'sponsorship', 'shannonryan', 'boxing', 'boxingnews', 'sport', 'nightmare', 'cheaperisntbetter', 'guinnesssixnations', '5g', 'betterconnected', 'headoffice', 'backoffice', 'irgt', 'fellow', 'hardcopy', 'londonbridge', 'complaints', 'csr', 'moreinfo', 'personahr', 'solutions', 'keyworker', 'gdp', 'weartherose', 'ashcroft', 'howisthisacceptable', 'gdpr', 'ashcroft', 'nft', 'nftgiveaways', 'bnb', 'btc', 'bsc', 'web3', 'fuming', 'ee', 'poorcustomerservice', 'notsponsored', 'poorcustomerservice', 'neveragain', 'mondaythoughts', 'poorcustomerservice', 'mondaymotivation', 'eegameoftheyear', 'chooseyourhero', 'customerservice', 'ethereum', 'timetocancel', 'pooree', 'ltc', 'c98', 'bull', 'retailtech', 'confused', 'samsunggalaxys22ultra', 'ee', 'useless', 'dpd', 'nidderdale', 'notgoodenough', '4g', 'customerservicejobs', 'retailjobs', 'lutonjobs', 'bedsjobs', 'kofimania', 'wrestlemania', 'ee', 'wheyaye', 'hove', 'bhcc', 'pixel6', 'google', 'pixel6', 'airdrops', 'binance', 'wembley', 'dronephotography', 'england', 'switzerland', 'sunset', 'corporateaccountability', 'corporateresponsibility', 'dosomething', 'victimblaming', 'survivorshaming', 'metoo', 'coercivecontrol', 'financialabuse', 'domesticabuse', 'day1049', 'ee', 'ee', 'wembley', 'wembleystadium', '5g', '𝐍𝐫さんのお友達がこれを𝐑𝐭してくれるはずなので𝐑𝐭して気になる人お迎え', 'heathrow', 'customerservice', 'ee', 'hounslow', 'westlondonjobs', 'ee', 'faketext', 'scam', 'anyday', 'corporateaccountability', 'corporateresponsibility', 'dosomething', 'victimblaming', 'survivorshaming', 'metoo', 'coercivecontrol', 'financialabuse', 'domesticabuse', 'day1047', 'ynwa', 'ad', 'retailjobs', 'customerservicejobs', 'stalbansjobs', 'hertsjobs', 'countingdownthedays', 'threeistheworstmobilenetwork', 'airdrop', 'nfts', 'ar', '5g', 'teamwork', 'employeehappiness', 'cumbriajobs', 'retailjobs', 'edsheeran', 'ee', 'ee', 'hello', 'o2', 'thurne', 'streaming', 'events', 'sport', 'realtime', '3d', 'video', 'metaverse', 'smartphones', 'theforgottencity', 'eegameoftheyear', 'ee', 'playstation5', 's22ultra', 'fing', 'internet', 'ee', 'empowereverymoment', 'theft', 'advertisingstandards', 'twitterdown', 'bt_uk', 'sky', 'lies', 'digtra', 'nohelp', 'stupidity', 'poorcustomerservice', 'poorcustomerservice', 'shocking', 'unbelievablejeff', 'poorcustomerservice', 'poorcustomerservice', 'notoricketts', '7', 'bt', 'fibre', 'internet', 'poorservice', 'btinternet', 'comeonengland', 'southgateout', 'threelions', 'ofcom', 'broadband', 'fttp', 'quickdelete', 'helston', 'cornwall', 'wifi', 'mentalhealth', 'looknorth', 'comedinewithme', 'jordanpickford', 'england', 'pickford', 'jordan', 'football', 'englandsnumber1', 'goalkeeper', 'englandvsswitzerland', 'everton', 'jordanpickford', 'england', 'pickford', 'jordan', 'football', 'englandsnumber1', 'englandvsswitzerland', 'jordanpickford', 'england', 'pickford', 'jordan', 'football', 'englandsnumber1', 'englandvsswitzerland', 'englandvsswitzerland', 'bt', 'ee', 'urc', 'threelions', 'kro', 'indyref2', 'englishindependence', 'scottishindependence', 'englishindy', 'indyref2', 'southgateout', 'btbusiness', 'englandtickets', 'wembley', 'tickets', 'switzerland', 'prediksibola', 'prediksiinggrisvsswiss', 'inggrisvsswiss', 'inggris', 'england', 'swiss', 'internasionalfriendlies2022', 'viral', 'trending', 'beritabola', 'sepakbola', 'original', 'mustseemoment', 'frustrated', 'virginbroadband', 'betteconnected', 'communicate', 'mustseemoment', 'virginmediabaftas', 'patyourselfontheback', 'ilac40years', 'howididit', 'horrificservice', 'horrificcustomerservice', 'influence', 'iot', 'iiot', 'iotpl', 'influencer', 'ai', 'ml', 'smartcity', 'startup', 'business', 'tech', 'technology', 'digitaltransformation', 'futureofwork', 'industry40', 'automation', 'robots', 'security', 'cryptocurrency', 'nfts', 'defi', 'emergingtech', 'techtrends', 'expectnothing', 'everyyear', 'scustomerservice', 'wheeliebindaytomorrow', 'leaving', 'zeetvuk', 'itsecurity', 'onlinesafety', 'partners', 'raghuraghuram', 'informationtechnology', 'newsmedia', 'itdigest', 'news', 'digitaladvertising', 'digitalmarketing', 'virginmedia', 'disabilitytwitter', 'slas', 'digitaltransformation', 'iot', '5g', 'business', 'bigdata', '4ir', 'cloud', 'ableism', 'nobojitnamzamy', 'didlilmasters', 'zeetvhd', 'bhagyalakshmi', 'zeetvhd', 'zeetvuk', 'you', 'virginmediadown', 'deafdiscrimination', 'virginmedia', 'youanyours', 'youandyours', 'virginmedia', 'deals', 'virginmedia', 'deals', 'deaf', 'tourofcatalunya', 'milanosanremo', 'virginmedia', 'solihull', 'virginmedia', 'nightmares', 'virgin', 'dreamholiday', 'lovetheneo', 'lovetheneo', 'oppofindx5', 'oppofindx5', 'lovetheneo', 'lovetheneo', 'customerservice', 'lovetheneo', 'lovetheneo', 'lovetheneo', 'lovetheneo', 'lovetheneo', 'digital', 'inclusion', 'digitaldivide', 'lovetheneo', 'lovetheneo', 'lovetheneo', 'lovetheneo', 'vodafonetreats', 'dreamholiday', 'lovetheneo', 'lovethatneo', 'lovetheneo', 'lovetheneo', 'dreamholiday', 'wickes', 'ukraine', 's21plus', 'vodafonetreats', 'windsor', 'handymanservices', 'diy', 'propertymaintenance', 'propertyinvestment', 'propertyservices', 'renaulttrafic', 's21plus', 'lovetheneo', 'vodafonetreats', 'lovetheneo', 'win', 'lovetheneo', 'lovetheneo', 'lovetheneo', 'lovetheneo', 'lovetheneo', 'lovetheneo', 'vodafonetreats', 'lovetheneo', 'dreamholiday', 'lovetheneo', 'lovetheneo', 'lovetheneo', 'lovetheneo', 'lovetheneo', 'lovetheneo', 'lovetheneo', 'lovetheneo', 'lovetheneo', 'lovetheneo', 'vodafoneuk', 'lovetheneo', 'lovetheneo', 'vodafonetreats', 'lovetheneo', 'lovetheneo', 'vodafonetreats', 'lovetheneo', 'lovetheneo', 'lovetheneo', 'lovetheneo', 'dreamholiday', 'dreamholiday', 'dreamholiday', 'digitalinclusion', 'verymerewards', 'dreamholiday', 'win', 'dreamholiday', 'verymerewards', 'win', 'lovetheneo', 'vodafonetreats', 'uk5gshowcase', 'verymerewards', 'dreamholiday', 'vodafone', 'veryme', 'dreamholiday', 'vodafonetreats', 'suningdale', 'handymanservices', 'diy', 'propertyservices', 'renaulttrafic', 's21plus', 'galaxys22', 'bray', 'handymanservices', 'propertymaintenance', 'propertyservices', 'renaulttrafic', 's21plus', 'newburycampus', 'hampshire', 'dreamholiday', 'veryme', 'verymerewards', 'myvodafone', 'theuk5gshowcase', 'hybridcloud', '5g', 'edge', 'machinelearning', 'ai', 'iot', 'tech4prisonleavers', 'newbury', 'berkshire', 'businessdeals', 'dreamholiday', 'voucher', 'code', 'vodafonebroadband', 'vodafonetreats', 'vodafonetreats', 'dreamholiday', 'dreamholiday', 'verymerewards', 'vodafonetreats', 'internationaldayofhappiness', 'vodafone', 'vodafonedown', 'dreamholiday', 'vodafonetreats', 'vodafonetreats', 'broadband', 'customerservice', 'fightracism', 'vodafonetreats', 'dreamholiday', 'dreamholiday', 'vodafonetreats', 'vodafonetreats', 'tiktok', 'verymerewards', 'internationaldayofhappiness', 'vodafonetreats', 'dreamholiday', 'dreamholiday', 'vodafonetreats', 'vodafonetreats', 'internationaldayofhappiness', 'vodafonetreats', 'dreamholiday', 'internationaldayofhappiness', 'internationaldayofhappiness', 'vodafonetreats', 'internationaldayofhappiness', 'vodafonetreats', 'vodafonetreats', 'internationaldayofhappiness', 'vodafonetreats', 'internationaldayofhappiness', 'vodafonetreats', 'internationaldayofhappiness', 'internationaldayofhappiness', 'vodafonetreats', 'vodafonetreats', 'vodafonetreats', 'vodafonetreats', 'internationaldayofhappiness', 'vodafonetreats', 'internationaldayofhappiness', 'internationaldayofhappiness', 'vodafonetreats', 'internationaldayofhappiness', 'internationaldayofhappiness', 'internationaldayofhappiness', 'internationaldayofhappiness', 'dreamholiday', 'vodafonetreats', 'vodaphonetreats', 'vodafonetreats', 'internationaldayofhappiness', 'vodafonetreats', 'vodafonetreats', 'internationaldayofhappiness', 'internationaldayofhappiness', 'vodafonetreats', 'vodafonetreats', 'internationaldayofhappiness', 'vodafonetreats', 'happybirhdaytome', 'internationaldayofhappiness', 'internationaldayofhappiness', 'vodafonetreats', 'vodafonetreats', 'internationaldayofhappiness', 'internationaldayofhappiness', 'vodafonetreats', 'internationaldayofhappiness', 'internationaldayofhappiness', 'vodafonetreats', 'internationaldayofhappiness', 'vodafonetreats', 'vodafonetreats', 'internationaldayofhappiness', 'vodafonetreats', 'vodafonetreats', 'internationaldayofhappiness', 'vodafonetreats', 'internationaldayofhappiness', 'vodafonetreats', 'internationaldayofhappiness', 'vodafonetreats', 'internationaldayofhappiness', 'vodaphonetreats', 'vodafonetreats', 'vodafonetreats', 'internationaldayofhappiness', 'vodafonetreats', 'vodafonetreats', 'internationaldayofhappiness', 'internationaldayofhappiness', 'internationaldayofhappiness', 'internationalhappinessday', 'vodafonetreats', 'internationaldayofhappiness', 'internationaldayofhappiness', 'vodafonetreats', 'vodafonetreats', 'internationaldayofhappiness', 'internationaldayofhappiness', 'vodafonetreats', 'internationaldayofhappiness', 'vodafonetreats', 'internationaldayofhappiness', 'vodafonetreats', 'internationaldayofhappiness', 'vodafonetreats', 'vodafonetreat', 'internationaldayofhappiness', 'vodafonetreats', 'internationaldayofhappiness', 'internationaldayofhappiness', 'vodafonetreats', 'vodafonetreats', 'internationaldayofhappiness', 'vodafonetreats', 'internationaldayofhappiness', 'internationaldayofhappiness', 'internationaldayofhappiness', 'vodafonetreats', 'vodafonetreats', 'internationaldayofhappiness', 'internationaldayofhappiness', 'vodafonetreats', 'internationaldayofhappiness', 'vodafonetreats', 'vodafonetreats', 'homeismyhappyplace', 'internationaldayofhappiness', 'vodafonetreats', 'internationaldayofhappiness', 'internationaldayofhappiness', 'vodafonetreats', 'internationaldayofhappiness', 'vodafonetreats', 'vodafonetreats', 'internationaldayofhappiness', 'vodafonetreats', 'internationaldayofhappiness', 'internationaldayofhappiness', 'vodafonetreats', 'vodafonetreats', 'vodafonetreats', 'internationaldayofhappiness', 'internationaldayofhappiness', 'vodafonetreats', 'internationaldayofhappiness', 'vodafonetreats', 'internationaldayofhappiness', 'internationaldayofhappiness', 'vodafonetreats', 'internationaldayofhappiness', 'iinternationaldayofhappiness', 'vodafonetreats', 'vodafonetreats', 'vodafonetreats', 'internationaldayofhappiness', 'internationaldayofhappines', 'vodafonetreats', 'internationaldayofhappiness', 'vodafonetreats', 'internationaldayofhappiness', 'internationaldayofhappiness', 'vodafonetreats', 'vodafonetreats', 'vodafonetreats', 'internationaldayofhappiness', 'internationaldayofhappiness', 'vodafonetreats', 'internationaldayofhappiness', 'internationaldayofhappiness', 'vodafonetreats', 'internationaldayofhappiness', 'vodafonetreats', 'internationaldayofhappiness', 'vodafonetreats', 'internationaldayofhappiness', 'internationaldayofhappiness', 'vodafonetreats', 'vodafonetreats', 'internationaldayofhappiness', 'vodafonetreats', 'internationaldayofhappiness', 'vodafonetreats', 'autocorrectisweird', 'internationaldayofhappiness', 'vodafonetreats', 'vodafonetreats', 'internationaldayofhappiness', 'vodafonetreats', 'internationaldayofhappiness', 'vodafonetreats', 'internationaldayofhappiness', 'spring', 'springtime', 'quails', 'photography', 'gardening', 'home', 'withgalaxy', 's21plus', 'dreamholiday', '1', 'verymerewards', 'dreamholiday', 'vodaphonetreats', 'slough', 'nightcycling', 'healtylifestyle', 'streetphotography', 's21plus', 'slough', 'nightcycling', 'healtylifestyle', 'streetphotography', 's21plus', 'windsor', 'handymanservices', 'propertymaintenance', 'propertyinvestment', 'propertyservices', 'renaulttrafic', 's21plus', 'windsor', 'handymanservices', 'propertymaintenance', 'propertyinvestment', 'propertyservices', 'renaulttrafic', 's21plus', 'dreamholiday', 'verymerewards', 'dreamholiday', 'dreamholiday', 'dreamholiday', 'voucher', 'code', 'vodafonebroadband', 'dreamholiday', 'dreamholiday', 'dreamholiday', 'dreamholiday', 'dreamholiday', 'dreamholiday', 'dreamholiday', 'dreamholiday', 'dreamholiday', 'dreamholiday', 'dreamholiday', 'win', 'verymerewards', 'staff', 'tupe', '5g', 'crapservice', 'dreamholiday', 'dreamholiday', 'win', 'verymerewards', 'voucher', 'code', 'vodafonebroadband', 'verymerewards', 'quails', 'przepiórki', 'withgalaxy', 's21plus', 'dreamholiday', 'dreamholiday', 'verymerewards', 'dreamholiday', 'dreamholiday', 'verymerewards', 'quails', 'przepiórki', 'withgalaxy', 's21plus', 'dreamholiday', 'handymanservices', 'propertymaintenance', 'propertyinvestment', 'propertyservices', 'renaulttrafic', 's21plus', 'windsor', 'handymanservices', 'propertymaintenance', 'propertyinvestment', 'propertyservices', 'renaulttrafic', 's21plus', 'dreamholiday', 'dreamholiday', 'dreamholiday', 'dreamholiday', 'onholdwith', 'callcenter', 'vodafonedown', 'sixnations', 'stpatricksday', 'dreamholiday', 'xiaomi12series', 'dreamholiday', 'dreamholiday', 'dreamholiday', 'dreamholiday', 'verymerewards', 'dreamholiday', 'cheapbroadband', 'tip', 'dreamholiday', 'dreamholiday', 'dreamholiday', 'vodafone', 'vodafoneuk', 'dreamholiday', 'dreamholiday', 'feeltheconnection', 'dreamholiday', 'dreamholiday', 'dreamholiday', 'dreamholiday', 'dreamholiday', 'verymerewards', 'dreamholiday', 'verymerewards', 'verymerewards', 'dreamholiday', 'dreamholiday', 'dreamholiday', 'dreamholiday', 'dreamholiday', 'dreamholiday', 'dreamholiday', 'dreamholiday', 'dreamholiday', 'dreamholiday', 'verymerewards', 'dreamholiday', 'dreamholiday', 'windsor', 'handymanservices', 'diy', 'propertymaintenance', 'propertyinvestment', 'propertyservices', 'renaulttrafic', 's21plus', 'windsor', 'handymanservices', 'diy', 'propertymaintenance', 'propertyinvestment', 'propertyservices', 'renaulttrafic', 's21plus', 'windsor', 'handymanservices', 'diy', 'propertymaintenance', 'propertyinvestment', 'propertyservices', 'renaulttrafic', 's21plus', 'windsor', 'handymanservices', 'diy', 'propertymaintenance', 'propertyinvestment', 'propertyservices', 'renaulttrafic', 's21plus', 'dreamholiday', 'verymerewards', 'dreamholiday', 'dreamholiday', 'xiaomi12series', 'dreamholiday', 'vodafone', 'vodafonedown', 'vodafoneuk', 'vodafonetreats', 'dreamholiday', 'dreamholiday', 'dreamholiday', 'dreamholiday', 'dreamholiday', 'vodaphone', 'nhsdiscount', 'nhs', 'verymerewards', 'dreamholiday', 'dreamholiday', 'dreamholiday', 'dreamholiday', 'dreamholiday', 'verymerewards', 'dreamholiday', 'dreamholiday', 'verymerewards', 'dreamholiday', 'verymerewards', 'vodafonedown', 'shambles', 'poorservice', 'dreamholiday', 'galaxytabs8ultra', 'verymerewards', 'dreamholiday', 'dreamholiday', 'verymerewards', 'dreamholiday', 'dreamholiday', 'nottingham', 'ng8', 'dreamholiday', '5g', 'dreamholiday', 'dreamholiday', 'dreamholiday', 'dreamholiday', 'win', 'verymerewards', 'dreamholiday', 'dreamholiday', 'dreamholiday', 'dreamholiday', 'dreamholiday', 'vodafonedown', 'dreamholiday', 'dreamholiday', 'dreamholiday', 'verymerewards', 'dreamholiday', 'dreamholiday', 'dreamholiday', 'dreamholiday', 'verymerewards', 'dreamholiday', 'verymerewards', 'dreamholiday', 'dreamholiday', 'dreamholiday', 'dreamholiday', 'verymerewards', 'oppofindx5pro', 'weartherose', 'o2', 'domino', 'lastdomino', 'lastdominotour', 'reuniontour', 'genesis', 'oppofindx5series', 'oppofindx5pro', 'o2', 'crew', 'aircrew', 'crewlife', 'crystalpeaks', 'o2', 'iphone', 'iphonese', 'freecalls', 'betterconnected', 'o2roamfreely', 'teamvirginmediao2', 'nothingphone1', 'nothingos', 'nothing', 'london', 'ukraine', 'galaxys22ultra', 'poorservice', 'nothinglikelive', 'teamvirginmediao2', 'cking', 'digitalinclusion', 'accessibility', 'digitaldivide', 'volunteers', 'avenuepark', 'crane', 'reclaimingtheriverside', 'abused', 'weartherose', 'o2priority', 'nothinglikelive', 'teamvirginmediao2', 'woop', 'poorcustomerservice', 'berks', 'gdpr', 'whatareyoudoing', 'gdpr', 'whatareyoudoing', 'ashcroft', 'nothinglikelive', 'belize', 'ashcroft', 'weartherose', 'ashcroft', 'belize', 'ashcroft', 'o2', 'cirencester', 'cotswolds', 'bishopswalk', 'bishopswalkshoppingarcade', 'shopping', 'gloucestershire', 'retail', 'iphone', 'apple', 'o2', 'phone', 'newphone', 'sponsored', 'iphone12', 'wellbeing', 'stopputinwarcrimesnow', 'belize', 'ashcroft', 'data', 'pandemicresponse', 'recovery', 'badcustomerservice', 'zionzooberonnecromonicon', 'gpandslonlinestores', 'o2', 'ukmobilenetworking', 'dm', 'dms', 'pandemic', 'doublestandards', 'belize', 'ashcroft', 'data', 'pandemicresponse', 'recovery', 'belize', 'ashcroft', 'shockingcustomerservice', 'belize', 'ashcroft', 'nothappy', 'o2priorty', 'weightlossjourney', 'mondaymotivaton', 'costoflivingcrisis', 'epicfail', 'familyfriendlymuseum', 'tiktok', 'belize', 'ashcroft', 'sortitout', 'iwouldbedead', 'belize', 'ashcroft', 'belize', 'ashcroft', 'hacked', 'stalked', 'spycop', 'hacking', 'belize', 'ashcroft', 'thiswouldbeepic', 'priority', 'o2', 'bestnetwork', 'customersmeanshit', 'profiteering', 'o2', 'leaveo2', 'poorcustomerservice', 'heartless', 'ufclondon', 'aspinall', 'ufclondon', 'canterbury', 'ufclondon', 'ufcvegas', 'pandemic', 'appallingservice', 'weartherose', 'ufclondon', 'help', 'weartherose', 'fraveng', 'customersmeanshit', 'profiteering', 'o2', 'leaveo2', 'poorcustomerservice', 'heartless', 'fraveng', 'weartherose', 'ireland', 'england', 'france', 'sixnations', 'eddiejones', 'fraveng', 'irevsco', 'walvita', 'workingfromhome', 'sxsw2022', 'inflation', 'staff', 'ceo', 'bonus', 'bill', 'ripoff', 'mobilephones', 'o2', 'vodafone', 'virginmedia', 'herefordjobs', 'retailjobs', 'phonejobs', 'nothingevent', 's22', 'hatefulcompant', 'eedishonest', 'galaxys22', 'samsunggalaxy', 'ee', '5g', '𝐍𝐫さんのお友達がこれを𝐑𝐭してくれるはずなので𝐑𝐭して気になる人お迎え', 'ee', 'bundeswehrreform', 'gasspeicher', 'raffinerien', 'bundeswehr', 'infrastruktur', 'canossa', 'makeithappen', 'fuckbrexit', 'corporateaccountability', 'corporateresponsibility', 'dosomething', 'victimblaming', 'survivorshaming', 'metoo', 'coercivecontrol', 'financialabuse', 'domesticabuse', 'day1045', 'merthyrtydfil', 'thankyou', 'pleasegiveallyoucan', 'boycottee', 'boycottdpd', 'thieves', 'robbery', 'a', 'cumbriajobs', 'retailjobs', 'justsendanengineerplease', 'parallel5g', 'ps5', 'ripoffee', 'hounslow', 'westlondonjobs', 'retailjobs', 'guildfordjobs', 'surreyjobs', 'shocking', 'ar', 'onlinesafety', 'research', 'insights', 'digital', 'baftas', 'thankgodforwifi', 'greatmodel', 'greatlook', 'greatshoot', 'greatday', 'beautiful', 'dutchmodel', 'proud', 'modelshoot', 'photoofthedaychallenge', 'signalbutnosignal', 'galaxys22ultra', 'samsung', 'ee', '5g', 'lyingads', 'corporateaccountability', 'corporateresponsibility', 'dosomething', 'victimblaming', 'survivorshaming', 'metoo', 'coercivecontrol', 'financialabuse', 'domesticabuse', 'day1044', 'stillleaving', 'ps5restock', 'ps5', 'hiring', 'plymouth', 'career', 'darlington', 'trx', 'sol', 'link', 'brumjobs', 'customerservicejobs', 'btr', 'buildtorent', 'homeviews', 'residentreviews', 'goodbye', 'bts_butter', 'bts', 'rtしたnrさんで気になった人お迎え', 'pricehike', 'ee', 'nrさんのお友達がこれをrtしてくれるはずなのでrtして気になる人お迎え', 'virginbroadband', 'virginmedia', 'esn', 'matt', 'ee', 'cancelday', 'ee', 'backorderoblivion', 'ee', 'akw', 'corporateaccountability', 'corporateresponsibility', 'dosomething', 'victimblaming', 'survivorshaming', 'metoo', 'coercivecontrol', 'financialabuse', 'domesticabuse', 'day1043', 'mondaymotivaton', 'firstdayofspring', 'weather', 'ee5g', 'marketing', '5g', '5g', '5gforconsumers', '5gusecase', 'music', 'ukraine', '5g', 'iot', 'eegameoftheyear', 'baftagames', 'hounslow', 'westlondonjobs', 'retailjobs', 'lyingbastards', 'martinlewis', 'coop', 'pepsi', 'ee', 'evmos', 'cosmos', 'osmosis', 'airdrop', 'plasmafinance', 'awardforworstservice', 'doyouevencare', 'incompentence', '18007', 'rickmansworth', 'food', 'customerexperience', 'betterworkplace', 'workplace', 'catering', 'workplacewellbeing', 'lexington', 'onebraham', 'customerservice', 'broadbanddown', 'fing', 'internet', 'bt', 'newcastle', 'reducefirst', 'telecoms', 'telco', 'innovation', 'telecommunications', 'uk5gshowcase', '5gunlocked', 'iot', 'robotdog', 'thcars2', '5g', 'ar', 'uk5gshowcase', '5gunlocked', 'iot', 'btfault', 'bt', 'openreach', 'broadband', 'fibre', 'icymi', 'cloud', 'bt', 'telecom', 'digital', 'elderly', 'homeworkers', 'voip', 'whatsapp', 'zoom', 'haveaniceday', 'bt', 'nobroadband', 'broadbandoutage', 'nointernet', 'cromer', 'northnorfolk', 'bt', 'satshow', 'accrington', 'community', 'workingtogether', 'talktalk', '5g', 'monetization', 'enterprise', 'spotlighton5g', 'mwc22', '1stworldproblems', 'excessive', '5g', 'smes', 'edge', 'data', 'cloud', 'bt', 'capslock', 'cyber', 'reskilling', 'shapeyourfuturean', 'milsatcoms', 'bt', 'capslock', 'liverpooljobs', 'engineeringjobs', 'satshow', 'thisisengland', 'aldgate', 'towerhamlets', 'colchester', 'essexjobs', 'bt', 'ps5uk', 'careers', 'degreeapprenticeship', 'vacancies', 'learnwhileyouearn', 'cybercrimesolutions', 'broadband', 'btbroadband', 'btispants', 'landlines', 'mobilephone', '1', 'shoddy', 'bt', 'internetservice', 'badservice', 'uhd', '4k', 'hdr', 'skyf1', 'skyq', 'samsungtv', 'bahraingp', 'fp3', 'satellite', 'avlars', 'appletv', 'skyglass', 'fibre', 'sportsbiz', 'sportstech', 'pl', 'f1', 'f12022', 'nabshow', 'nab2022', 'nab22', 'howaythelads', 'safc', 'unbreakableinternet', 'bt', 'bt', 'howaythelads', 'geordies', 'hawaythelads', 'nufc', 'skillsfortomorrow', 'cancellation', 'fing', 'internet', 'bt', '3rdtimelucky', 'btsport', 'reduceplastic', 'bsw22', 'cardiff', 'ukmfg', 'gbmfg', 'bt', 'telecommunications', 'btsport', 'bt', 'streetart', 'sheffield', 'testmeasure22', 'skillsfortomorrow', 'climateemergency', 'fing', 'internet', 'bt', 'savile', 'savile', 'savile', 'savile', 'savile', 'savile', 'uecl', 'asroma', 'romavitesse', 'princeandrew', 'misogynistic', 'vipchildsexabuse', 'vipcharityfraud', 'lincoln', 'thebigpremiere', 'zeetvhd', 'zeetvuk', 'katrinakaif', 'virginmobile', 'virginmedia', 'simonmiller', 'zeetvhd', 'zeetvuk', 'newshow', 'debattamasaha', 'aashishbhardhwaj', 'roupellstreetconservationarea', 'badcustomerservice', 'skyvipmember', 'debattamasaha', 'mithai', 'thestmarlebone', 'roadshow', 'thinkingfutures', 'talkapprenticeships', 'raisingawareness', 'poorcustomerservice', 'virginmedia', 'teamvirginmediao2', 'virginmedia', 'mustseemoment', 'virginmediabaftas', 'mustseemoment', 'trina', 'bhfyp', 'reggae', 'rap', 'hiphop', 'viral', 'customerservice', 'virginmedia', 'bafta', 'deaftalent', 'ripoff', 'financial', 'data', 'virginmedia', 'poorservice', 'uk', 'wifidown', 'virginmedia', 'teamvirginmediao2', 'stevenage', 'wmesrm', 'poorcustomerservice', 'wmesrm', 'enterprisesecurity', 'riskmanagement', 'neveragain', 'worstbroadbandservice', 'virginmediadown', 'virginmedia', 'mustseemoment', 'virginmediabaftas', 'thursdaythoughts', 'teamvirginmediao2', 'nonutility', 'nocustomerservice', 'homesecurity', 'betterconnected', 'mustseemoment', 'virginmedia', 'goldendown', 'imissninaandhunty', 'bringbacknightlypop', 'uk', 'criminalassetsbureau', 'cab', 'customerservice', 'poorcustomerservice', 'treatpeoplewithkindness', 'dragraceuk', 'dragrace', 'baftas', 'virginmedia', 'worstcustomerserviceever']\n"
     ]
    }
   ],
   "source": [
    "def xx(text,k):\n",
    "    x = re.findall(r\"#(\\w+)\", text)\n",
    "    if len(x)>0:\n",
    "        for i in x:\n",
    "            k.append(i.lower())\n",
    "\n",
    "\n",
    "k=[]\n",
    "x = df['tweet'].apply(xx,args=(k,))\n"
   ]
  },
  {
   "cell_type": "code",
   "execution_count": 67,
   "metadata": {},
   "outputs": [
    {
     "name": "stdout",
     "output_type": "stream",
     "text": [
      "𝐍: 1\n",
      "𝐫: 1\n",
      "さ: 1\n",
      "ん: 1\n",
      "の: 2\n",
      "お: 2\n",
      "友: 1\n",
      "達: 1\n",
      "が: 1\n",
      "こ: 1\n",
      "れ: 2\n",
      "を: 1\n",
      "𝐑: 2\n",
      "𝐭: 2\n",
      "し: 2\n",
      "て: 2\n",
      "く: 1\n",
      "る: 2\n",
      "は: 1\n",
      "ず: 1\n",
      "な: 2\n",
      "で: 1\n",
      "気: 1\n",
      "に: 1\n",
      "人: 1\n",
      "迎: 1\n",
      "え: 1\n"
     ]
    }
   ],
   "source": [
    "def CountFrequency(k):\n",
    "\n",
    "\t# Creating an empty dictionary\n",
    "\tfreq = {}\n",
    "\tfor item in k:\n",
    "\t\tif (item in freq):\n",
    "\t\t\tfreq[item] += 1\n",
    "\t\telse:\n",
    "\t\t\tfreq[item] = 1\n",
    "\n",
    "    return freq\n",
    "\n",
    "\n",
    "y = CountFrequency(k)\n"
   ]
  },
  {
   "cell_type": "code",
   "execution_count": 68,
   "metadata": {},
   "outputs": [],
   "source": [
    "def CountFrequency(k):\n",
    "    freq = {}\n",
    "    for item in k:\n",
    "        if (item in freq):\n",
    "            freq[item] += 1\n",
    "        else:\n",
    "            freq[item] = 1\n",
    "    return freq\n",
    "\n",
    "y = CountFrequency(k)"
   ]
  },
  {
   "cell_type": "code",
   "execution_count": 87,
   "metadata": {},
   "outputs": [
    {
     "data": {
      "text/plain": [
       "('dreamholiday', 192)"
      ]
     },
     "execution_count": 87,
     "metadata": {},
     "output_type": "execute_result"
    }
   ],
   "source": [
    "max(y.items(), key = lambda k : k[1])"
   ]
  },
  {
   "cell_type": "code",
   "execution_count": 26,
   "metadata": {},
   "outputs": [
    {
     "name": "stdout",
     "output_type": "stream",
     "text": [
      "Today's date: 2022-03-31\n"
     ]
    }
   ],
   "source": [
    "from datetime import date\n",
    "\n",
    "today = date.today()\n",
    "print(\"Today's date:\", today)"
   ]
  },
  {
   "cell_type": "code",
   "execution_count": null,
   "metadata": {},
   "outputs": [],
   "source": []
  },
  {
   "cell_type": "markdown",
   "metadata": {},
   "source": [
    "# TIMESTAMP NOW"
   ]
  },
  {
   "cell_type": "code",
   "execution_count": 9,
   "metadata": {},
   "outputs": [
    {
     "name": "stdout",
     "output_type": "stream",
     "text": [
      "timestamp = 1648728588.633122\n"
     ]
    }
   ],
   "source": [
    "from datetime import datetime\n",
    "\n",
    "# current date and time\n",
    "now = datetime.now()\n",
    "\n",
    "timestamp = datetime.timestamp(now)\n",
    "print(\"timestamp =\", timestamp)"
   ]
  },
  {
   "cell_type": "markdown",
   "metadata": {},
   "source": [
    "# TIMESTAMPO TO DATE"
   ]
  },
  {
   "cell_type": "code",
   "execution_count": 31,
   "metadata": {},
   "outputs": [
    {
     "name": "stdout",
     "output_type": "stream",
     "text": [
      "dt_object = 2022-03-31 14:55:36.890071\n",
      "type(dt_object) = <class 'datetime.datetime'>\n"
     ]
    }
   ],
   "source": [
    "from datetime import datetime\n",
    "\n",
    "# timestamp = 1648718662\n",
    "dt_object = datetime.fromtimestamp(timestamp)\n",
    "\n",
    "print(\"dt_object =\", dt_object)\n",
    "print(\"type(dt_object) =\", type(dt_object))"
   ]
  },
  {
   "cell_type": "code",
   "execution_count": null,
   "metadata": {},
   "outputs": [],
   "source": [
    "filter_val = int(input())\n",
    "expectedResult = df[df['label']==filter_val].to_dict('records')\n"
   ]
  }
 ],
 "metadata": {
  "interpreter": {
   "hash": "d19612b9f94f09eca1b53f18fa12f2cee7220d300e141fdd29c3a6ffd6c33469"
  },
  "kernelspec": {
   "display_name": "Python 3.9.7 ('venv': venv)",
   "language": "python",
   "name": "python3"
  },
  "language_info": {
   "codemirror_mode": {
    "name": "ipython",
    "version": 3
   },
   "file_extension": ".py",
   "mimetype": "text/x-python",
   "name": "python",
   "nbconvert_exporter": "python",
   "pygments_lexer": "ipython3",
   "version": "3.9.7"
  },
  "orig_nbformat": 4
 },
 "nbformat": 4,
 "nbformat_minor": 2
}
