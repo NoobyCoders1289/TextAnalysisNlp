{
 "cells": [
  {
   "cell_type": "code",
   "execution_count": null,
   "metadata": {},
   "outputs": [],
   "source": [
    "# Importing Modules\n",
    "from datetime import date\n",
    "import json\n",
    "import os\n",
    "import re\n",
    "import warnings\n",
    "\n",
    "import neattext.functions as nfx\n",
    "import pandas as pd\n",
    "from configparser import ConfigParser\n",
    "\n",
    "warnings.filterwarnings('ignore')\n"
   ]
  },
  {
   "cell_type": "code",
   "execution_count": 7,
   "metadata": {},
   "outputs": [
    {
     "data": {
      "text/plain": [
       "''"
      ]
     },
     "execution_count": 7,
     "metadata": {},
     "output_type": "execute_result"
    }
   ],
   "source": [
    "# config_path = os.path.join(os.getcwd(), 'config.ini')\n",
    "os.path.dirname('config.ini')\n",
    "# config = ConfigParser()\n",
    "# config.read(config_path)\n",
    "# path = config['path']['static_csvfiles']\n",
    "# print(config_path)\n"
   ]
  },
  {
   "cell_type": "code",
   "execution_count": null,
   "metadata": {},
   "outputs": [],
   "source": [
    "df = pd.read_csv(os.path.join(path, 'rawdata/train_data.csv'))\n",
    "print(\"a: \", df.shape)\n",
    "df.dropna(subset=['tweet'], inplace=True)\n",
    "print(f\"duplicated count: {df[df.duplicated()].shape}\")\n",
    "# df.drop_duplicates(subset=['tweet_id', 'user_id', 'created_at', 'tweet'], keep='last', inplace=True,\n",
    "#                    ignore_index=True)\n",
    "df.drop_duplicates(subset=['tweet'], keep='last', inplace=True,\n",
    "                    ignore_index=True)\n",
    "print(\"b: \", df.shape)\n",
    "df['clean_text'] = df['tweet'].apply(appost_remove)\n",
    "df['clean_text'] = df['clean_text'].apply(cleanTxt)\n",
    "# --------------------------------\n",
    "today = date.today()\n",
    "d1 = today.strftime(\"%d_%m_%Y\")\n",
    "# ---------------------------------\n",
    "# print(os.path.join(path,f'CleanedData{d1}.csv'))\n",
    "df.to_csv(os.path.join(path, f'cleandata/TrainData{d1}.csv'), index=False)"
   ]
  }
 ],
 "metadata": {
  "interpreter": {
   "hash": "d19612b9f94f09eca1b53f18fa12f2cee7220d300e141fdd29c3a6ffd6c33469"
  },
  "kernelspec": {
   "display_name": "Python 3.9.7 ('venv': venv)",
   "language": "python",
   "name": "python3"
  },
  "language_info": {
   "codemirror_mode": {
    "name": "ipython",
    "version": 3
   },
   "file_extension": ".py",
   "mimetype": "text/x-python",
   "name": "python",
   "nbconvert_exporter": "python",
   "pygments_lexer": "ipython3",
   "version": "3.9.7"
  },
  "orig_nbformat": 4
 },
 "nbformat": 4,
 "nbformat_minor": 2
}
