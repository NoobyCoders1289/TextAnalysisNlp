{
 "cells": [
  {
   "cell_type": "code",
   "execution_count": 98,
   "metadata": {},
   "outputs": [],
   "source": [
    "from datetime import date\n",
    "import json\n",
    "import os\n",
    "import re\n",
    "\n",
    "import pandas as pd\n",
    "import neattext as nfx\n"
   ]
  },
  {
   "cell_type": "code",
   "execution_count": 99,
   "metadata": {},
   "outputs": [],
   "source": [
    "df = pd.read_csv(r'C:\\Users\\2003640\\Desktop\\TextAnalysisNlp\\static\\csv_files\\cleandata\\cleaned_data.csv')"
   ]
  },
  {
   "cell_type": "code",
   "execution_count": 100,
   "metadata": {},
   "outputs": [],
   "source": [
    "def cleanTxt(text,num):\n",
    "    text = text.lower()\n",
    "    text = nfx.remove_userhandles(text)\n",
    "    text = nfx.remove_emojis(text)\n",
    "    text = nfx.remove_urls(text)\n",
    "    text = re.sub(r'#', ' ', text)\n",
    "    text = re.sub(r'\\n', ' ', text)\n",
    "    text = re.sub(r'&amp', '&', text)\n",
    "    text = nfx.remove_stopwords(text)\n",
    "    text = nfx.remove_puncts(text)\n",
    "    text = nfx.remove_special_characters(text)\n",
    "    text = re.sub(r'x000d',' ', text)\n",
    "    if num == 1:\n",
    "        text = re.sub(r'^[0-9]\\w+','',text)\n",
    "        text = nfx.remove_numbers(text)\n",
    "    text = nfx.remove_multiple_spaces(text)\n",
    "    text = text.strip()\n",
    "\n",
    "    return text"
   ]
  },
  {
   "cell_type": "code",
   "execution_count": 101,
   "metadata": {},
   "outputs": [],
   "source": [
    "df['clean_text']=df['text'].apply(cleanTxt, args=(1,))\n",
    "df['keywords_text']=df['text'].apply(cleanTxt, args=(2,))\n"
   ]
  },
  {
   "cell_type": "code",
   "execution_count": 102,
   "metadata": {},
   "outputs": [],
   "source": [
    "x = df.iloc[3]['text']"
   ]
  },
  {
   "cell_type": "code",
   "execution_count": 103,
   "metadata": {},
   "outputs": [
    {
     "data": {
      "text/plain": [
       "'@VodafoneUK  phone Nokia  , favourite phone IPhone 7 (my current phone )  favourite game -Snake #VodafoneTreats https://t.co/qDUED'"
      ]
     },
     "execution_count": 103,
     "metadata": {},
     "output_type": "execute_result"
    }
   ],
   "source": [
    "x = re.sub('[0-9]\\w+','',x)\n",
    "x"
   ]
  },
  {
   "cell_type": "code",
   "execution_count": 104,
   "metadata": {},
   "outputs": [
    {
     "data": {
      "text/html": [
       "<div>\n",
       "<style scoped>\n",
       "    .dataframe tbody tr th:only-of-type {\n",
       "        vertical-align: middle;\n",
       "    }\n",
       "\n",
       "    .dataframe tbody tr th {\n",
       "        vertical-align: top;\n",
       "    }\n",
       "\n",
       "    .dataframe thead th {\n",
       "        text-align: right;\n",
       "    }\n",
       "</style>\n",
       "<table border=\"1\" class=\"dataframe\">\n",
       "  <thead>\n",
       "    <tr style=\"text-align: right;\">\n",
       "      <th></th>\n",
       "      <th>created_at</th>\n",
       "      <th>id</th>\n",
       "      <th>author_id</th>\n",
       "      <th>text</th>\n",
       "      <th>name</th>\n",
       "      <th>location</th>\n",
       "      <th>username</th>\n",
       "      <th>clean_text</th>\n",
       "      <th>label</th>\n",
       "      <th>keywords_text</th>\n",
       "    </tr>\n",
       "  </thead>\n",
       "  <tbody>\n",
       "    <tr>\n",
       "      <th>0</th>\n",
       "      <td>2022-03-02T10:43:15.000Z</td>\n",
       "      <td>237240888</td>\n",
       "      <td>237240888</td>\n",
       "      <td>0.71Mbps download speed. Much worse than my ex...</td>\n",
       "      <td>Chris Jones</td>\n",
       "      <td>County Down UK</td>\n",
       "      <td>ChrisJonesBiz</td>\n",
       "      <td>download speed worse expectation</td>\n",
       "      <td>-1.0</td>\n",
       "      <td>071mbps download speed worse expectation</td>\n",
       "    </tr>\n",
       "    <tr>\n",
       "      <th>1</th>\n",
       "      <td>2022-02-28T18:47:35.000Z</td>\n",
       "      <td>41803296</td>\n",
       "      <td>41803296</td>\n",
       "      <td>@Danjones_uk @VodafoneUK 15 text messages and ...</td>\n",
       "      <td>Chris</td>\n",
       "      <td>Altrincham, Cheshire. UK</td>\n",
       "      <td>redmeister81</td>\n",
       "      <td>text messages quietest notification sound got ...</td>\n",
       "      <td>-1.0</td>\n",
       "      <td>15 text messages quietest notification sound g...</td>\n",
       "    </tr>\n",
       "    <tr>\n",
       "      <th>2</th>\n",
       "      <td>2022-03-02T22:14:20.000Z</td>\n",
       "      <td>356726040</td>\n",
       "      <td>356726040</td>\n",
       "      <td>.@EE 18 minutes and still no answer? https://t...</td>\n",
       "      <td>Sarah</td>\n",
       "      <td>Blighty</td>\n",
       "      <td>misspheric</td>\n",
       "      <td>minutes answer</td>\n",
       "      <td>-1.0</td>\n",
       "      <td>18 minutes answer</td>\n",
       "    </tr>\n",
       "    <tr>\n",
       "      <th>3</th>\n",
       "      <td>2022-02-28T18:45:34.000Z</td>\n",
       "      <td>142358555</td>\n",
       "      <td>142358555</td>\n",
       "      <td>@VodafoneUK 1st phone Nokia 6110 , favourite p...</td>\n",
       "      <td>LydiaGough ðŸ’—</td>\n",
       "      <td>West midlands UK</td>\n",
       "      <td>lydfp_bobbysmum</td>\n",
       "      <td>phone nokia favourite phone iphone my current ...</td>\n",
       "      <td>1.0</td>\n",
       "      <td>1st phone nokia 6110 favourite phone iphone 7 ...</td>\n",
       "    </tr>\n",
       "    <tr>\n",
       "      <th>4</th>\n",
       "      <td>2022-02-28T17:07:05.000Z</td>\n",
       "      <td>30891441</td>\n",
       "      <td>30891441</td>\n",
       "      <td>@VodafoneUK 1st phone was a Hagenuk _x000D_\\r\\...</td>\n",
       "      <td>Mark Lilley</td>\n",
       "      <td>Derby UK</td>\n",
       "      <td>Tig69</td>\n",
       "      <td>phone hagenuk favourite phone original motorol...</td>\n",
       "      <td>1.0</td>\n",
       "      <td>1st phone hagenuk favourite phone original mot...</td>\n",
       "    </tr>\n",
       "  </tbody>\n",
       "</table>\n",
       "</div>"
      ],
      "text/plain": [
       "                 created_at         id  author_id  \\\n",
       "0  2022-03-02T10:43:15.000Z  237240888  237240888   \n",
       "1  2022-02-28T18:47:35.000Z   41803296   41803296   \n",
       "2  2022-03-02T22:14:20.000Z  356726040  356726040   \n",
       "3  2022-02-28T18:45:34.000Z  142358555  142358555   \n",
       "4  2022-02-28T17:07:05.000Z   30891441   30891441   \n",
       "\n",
       "                                                text             name  \\\n",
       "0  0.71Mbps download speed. Much worse than my ex...      Chris Jones   \n",
       "1  @Danjones_uk @VodafoneUK 15 text messages and ...            Chris   \n",
       "2  .@EE 18 minutes and still no answer? https://t...            Sarah   \n",
       "3  @VodafoneUK 1st phone Nokia 6110 , favourite p...  LydiaGough ðŸ’—   \n",
       "4  @VodafoneUK 1st phone was a Hagenuk _x000D_\\r\\...      Mark Lilley   \n",
       "\n",
       "                   location         username  \\\n",
       "0            County Down UK    ChrisJonesBiz   \n",
       "1  Altrincham, Cheshire. UK     redmeister81   \n",
       "2                   Blighty       misspheric   \n",
       "3          West midlands UK  lydfp_bobbysmum   \n",
       "4                  Derby UK            Tig69   \n",
       "\n",
       "                                          clean_text  label  \\\n",
       "0                   download speed worse expectation   -1.0   \n",
       "1  text messages quietest notification sound got ...   -1.0   \n",
       "2                                     minutes answer   -1.0   \n",
       "3  phone nokia favourite phone iphone my current ...    1.0   \n",
       "4  phone hagenuk favourite phone original motorol...    1.0   \n",
       "\n",
       "                                       keywords_text  \n",
       "0           071mbps download speed worse expectation  \n",
       "1  15 text messages quietest notification sound g...  \n",
       "2                                  18 minutes answer  \n",
       "3  1st phone nokia 6110 favourite phone iphone 7 ...  \n",
       "4  1st phone hagenuk favourite phone original mot...  "
      ]
     },
     "execution_count": 104,
     "metadata": {},
     "output_type": "execute_result"
    }
   ],
   "source": [
    "df.head()"
   ]
  },
  {
   "cell_type": "code",
   "execution_count": null,
   "metadata": {},
   "outputs": [],
   "source": []
  }
 ],
 "metadata": {
  "interpreter": {
   "hash": "d2645df59491937feb1650e8cf1127f60eb89a27cfc06b6d2b237447f60be989"
  },
  "kernelspec": {
   "display_name": "Python 3.9.7 ('venv': venv)",
   "language": "python",
   "name": "python3"
  },
  "language_info": {
   "codemirror_mode": {
    "name": "ipython",
    "version": 3
   },
   "file_extension": ".py",
   "mimetype": "text/x-python",
   "name": "python",
   "nbconvert_exporter": "python",
   "pygments_lexer": "ipython3",
   "version": "3.9.7"
  },
  "orig_nbformat": 4
 },
 "nbformat": 4,
 "nbformat_minor": 2
}
