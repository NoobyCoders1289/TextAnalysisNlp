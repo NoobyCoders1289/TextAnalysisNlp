{
 "cells": [
  {
   "cell_type": "code",
   "execution_count": 77,
   "metadata": {},
   "outputs": [],
   "source": [
    "from datetime import date\n",
    "import json\n",
    "import os\n",
    "import re\n",
    "\n",
    "import pandas as pd\n",
    "import neattext as nfx\n"
   ]
  },
  {
   "cell_type": "code",
   "execution_count": 78,
   "metadata": {},
   "outputs": [],
   "source": [
    "df = pd.read_csv(r'C:\\Users\\2003640\\Desktop\\TextAnalysisNlp\\static\\csv_files\\cleandata\\cleaned_data.csv')"
   ]
  },
  {
   "cell_type": "code",
   "execution_count": 79,
   "metadata": {},
   "outputs": [],
   "source": [
    "def cleanTxt(text,num):\n",
    "    text = text.lower()\n",
    "    text = nfx.remove_userhandles(text)\n",
    "    text = nfx.remove_emojis(text)\n",
    "    text = nfx.remove_urls(text)\n",
    "    text = re.sub(r'#', ' ', text)\n",
    "    text = re.sub(r'\\n', ' ', text)\n",
    "    text = re.sub(r'&amp', '&', text)\n",
    "    text = nfx.remove_stopwords(text)\n",
    "    text = nfx.remove_puncts(text)\n",
    "    text = nfx.remove_special_characters(text)\n",
    "    text = re.sub(r'x000d',' ', text)\n",
    "    if num == 1:\n",
    "        text = re.sub(r'^[0-9]\\w+','',text)\n",
    "        text = nfx.remove_numbers(text)\n",
    "    text = nfx.remove_multiple_spaces(text)\n",
    "    text = text.strip()\n",
    "\n",
    "    return text"
   ]
  },
  {
   "cell_type": "code",
   "execution_count": 80,
   "metadata": {},
   "outputs": [],
   "source": [
    "df['clean_text']=df['text'].apply(cleanTxt, args=(1,))\n",
    "df['keywords_text']=df['text'].apply(cleanTxt, args=(2,))\n"
   ]
  },
  {
   "cell_type": "code",
   "execution_count": 81,
   "metadata": {},
   "outputs": [],
   "source": [
    "x = df.iloc[3]['text']"
   ]
  },
  {
   "cell_type": "code",
   "execution_count": 82,
   "metadata": {},
   "outputs": [
    {
     "data": {
      "text/plain": [
       "'@VodafoneUK  phone Nokia  , favourite phone IPhone 7 (my current phone )  favourite game -Snake #VodafoneTreats https://t.co/qDUED'"
      ]
     },
     "execution_count": 82,
     "metadata": {},
     "output_type": "execute_result"
    }
   ],
   "source": [
    "x = re.sub('[0-9]\\w+','',x)\n",
    "x"
   ]
  },
  {
   "cell_type": "code",
   "execution_count": 83,
   "metadata": {},
   "outputs": [
    {
     "data": {
      "text/html": [
       "<div>\n",
       "<style scoped>\n",
       "    .dataframe tbody tr th:only-of-type {\n",
       "        vertical-align: middle;\n",
       "    }\n",
       "\n",
       "    .dataframe tbody tr th {\n",
       "        vertical-align: top;\n",
       "    }\n",
       "\n",
       "    .dataframe thead th {\n",
       "        text-align: right;\n",
       "    }\n",
       "</style>\n",
       "<table border=\"1\" class=\"dataframe\">\n",
       "  <thead>\n",
       "    <tr style=\"text-align: right;\">\n",
       "      <th></th>\n",
       "      <th>created_at</th>\n",
       "      <th>id</th>\n",
       "      <th>author_id</th>\n",
       "      <th>text</th>\n",
       "      <th>name</th>\n",
       "      <th>location</th>\n",
       "      <th>username</th>\n",
       "      <th>clean_text</th>\n",
       "      <th>label</th>\n",
       "      <th>keywords_text</th>\n",
       "    </tr>\n",
       "  </thead>\n",
       "  <tbody>\n",
       "    <tr>\n",
       "      <th>0</th>\n",
       "      <td>2022-03-02T10:43:15.000Z</td>\n",
       "      <td>237240888</td>\n",
       "      <td>237240888</td>\n",
       "      <td>0.71Mbps download speed. Much worse than my ex...</td>\n",
       "      <td>Chris Jones</td>\n",
       "      <td>County Down UK</td>\n",
       "      <td>ChrisJonesBiz</td>\n",
       "      <td>download speed worse expectation</td>\n",
       "      <td>-1.0</td>\n",
       "      <td>071mbps download speed worse expectation</td>\n",
       "    </tr>\n",
       "    <tr>\n",
       "      <th>1</th>\n",
       "      <td>2022-02-28T18:47:35.000Z</td>\n",
       "      <td>41803296</td>\n",
       "      <td>41803296</td>\n",
       "      <td>@Danjones_uk @VodafoneUK 15 text messages and ...</td>\n",
       "      <td>Chris</td>\n",
       "      <td>Altrincham, Cheshire. UK</td>\n",
       "      <td>redmeister81</td>\n",
       "      <td>text messages quietest notification sound got ...</td>\n",
       "      <td>-1.0</td>\n",
       "      <td>15 text messages quietest notification sound g...</td>\n",
       "    </tr>\n",
       "    <tr>\n",
       "      <th>2</th>\n",
       "      <td>2022-03-02T22:14:20.000Z</td>\n",
       "      <td>356726040</td>\n",
       "      <td>356726040</td>\n",
       "      <td>.@EE 18 minutes and still no answer? https://t...</td>\n",
       "      <td>Sarah</td>\n",
       "      <td>Blighty</td>\n",
       "      <td>misspheric</td>\n",
       "      <td>minutes answer</td>\n",
       "      <td>-1.0</td>\n",
       "      <td>18 minutes answer</td>\n",
       "    </tr>\n",
       "    <tr>\n",
       "      <th>3</th>\n",
       "      <td>2022-02-28T18:45:34.000Z</td>\n",
       "      <td>142358555</td>\n",
       "      <td>142358555</td>\n",
       "      <td>@VodafoneUK 1st phone Nokia 6110 , favourite p...</td>\n",
       "      <td>LydiaGough ðŸ’—</td>\n",
       "      <td>West midlands UK</td>\n",
       "      <td>lydfp_bobbysmum</td>\n",
       "      <td>phone nokia favourite phone iphone my current ...</td>\n",
       "      <td>1.0</td>\n",
       "      <td>1st phone nokia 6110 favourite phone iphone 7 ...</td>\n",
       "    </tr>\n",
       "    <tr>\n",
       "      <th>4</th>\n",
       "      <td>2022-02-28T17:07:05.000Z</td>\n",
       "      <td>30891441</td>\n",
       "      <td>30891441</td>\n",
       "      <td>@VodafoneUK 1st phone was a Hagenuk _x000D_\\r\\...</td>\n",
       "      <td>Mark Lilley</td>\n",
       "      <td>Derby UK</td>\n",
       "      <td>Tig69</td>\n",
       "      <td>phone hagenuk favourite phone original motorol...</td>\n",
       "      <td>1.0</td>\n",
       "      <td>1st phone hagenuk favourite phone original mot...</td>\n",
       "    </tr>\n",
       "  </tbody>\n",
       "</table>\n",
       "</div>"
      ],
      "text/plain": [
       "                 created_at         id  author_id  \\\n",
       "0  2022-03-02T10:43:15.000Z  237240888  237240888   \n",
       "1  2022-02-28T18:47:35.000Z   41803296   41803296   \n",
       "2  2022-03-02T22:14:20.000Z  356726040  356726040   \n",
       "3  2022-02-28T18:45:34.000Z  142358555  142358555   \n",
       "4  2022-02-28T17:07:05.000Z   30891441   30891441   \n",
       "\n",
       "                                                text             name  \\\n",
       "0  0.71Mbps download speed. Much worse than my ex...      Chris Jones   \n",
       "1  @Danjones_uk @VodafoneUK 15 text messages and ...            Chris   \n",
       "2  .@EE 18 minutes and still no answer? https://t...            Sarah   \n",
       "3  @VodafoneUK 1st phone Nokia 6110 , favourite p...  LydiaGough ðŸ’—   \n",
       "4  @VodafoneUK 1st phone was a Hagenuk _x000D_\\r\\...      Mark Lilley   \n",
       "\n",
       "                   location         username  \\\n",
       "0            County Down UK    ChrisJonesBiz   \n",
       "1  Altrincham, Cheshire. UK     redmeister81   \n",
       "2                   Blighty       misspheric   \n",
       "3          West midlands UK  lydfp_bobbysmum   \n",
       "4                  Derby UK            Tig69   \n",
       "\n",
       "                                          clean_text  label  \\\n",
       "0                   download speed worse expectation   -1.0   \n",
       "1  text messages quietest notification sound got ...   -1.0   \n",
       "2                                     minutes answer   -1.0   \n",
       "3  phone nokia favourite phone iphone my current ...    1.0   \n",
       "4  phone hagenuk favourite phone original motorol...    1.0   \n",
       "\n",
       "                                       keywords_text  \n",
       "0           071mbps download speed worse expectation  \n",
       "1  15 text messages quietest notification sound g...  \n",
       "2                                  18 minutes answer  \n",
       "3  1st phone nokia 6110 favourite phone iphone 7 ...  \n",
       "4  1st phone hagenuk favourite phone original mot...  "
      ]
     },
     "execution_count": 83,
     "metadata": {},
     "output_type": "execute_result"
    }
   ],
   "source": [
    "df.head()"
   ]
  },
  {
   "cell_type": "code",
   "execution_count": 1,
   "metadata": {},
   "outputs": [],
   "source": [
    "import datetime\n",
    "start_date = datetime.datetime.now() - datetime.timedelta(90)\n"
   ]
  },
  {
   "cell_type": "code",
   "execution_count": 2,
   "metadata": {},
   "outputs": [],
   "source": [
    "start_date = start_date.strftime(\"%m/%d/%Y, %H:%M:%S\")"
   ]
  },
  {
   "cell_type": "code",
   "execution_count": 5,
   "metadata": {},
   "outputs": [
    {
     "ename": "AttributeError",
     "evalue": "'str' object has no attribute 'strftime'",
     "output_type": "error",
     "traceback": [
      "\u001b[1;31m---------------------------------------------------------------------------\u001b[0m",
      "\u001b[1;31mAttributeError\u001b[0m                            Traceback (most recent call last)",
      "\u001b[1;32mh:\\MyLearningProjects\\PythonProjects\\TextAnalysisNlp\\scratch\\filter.ipynb Cell 10'\u001b[0m in \u001b[0;36m<cell line: 1>\u001b[1;34m()\u001b[0m\n\u001b[1;32m----> <a href='vscode-notebook-cell:/h%3A/MyLearningProjects/PythonProjects/TextAnalysisNlp/scratch/filter.ipynb#ch0000009?line=0'>1</a>\u001b[0m start_date\u001b[39m.\u001b[39;49mstrftime(\u001b[39m'\u001b[39m\u001b[39m%\u001b[39m\u001b[39mD\u001b[39m\u001b[39m'\u001b[39m)\n",
      "\u001b[1;31mAttributeError\u001b[0m: 'str' object has no attribute 'strftime'"
     ]
    }
   ],
   "source": [
    "start_date"
   ]
  },
  {
   "cell_type": "code",
   "execution_count": 13,
   "metadata": {},
   "outputs": [],
   "source": [
    "days={\"January\":\"31\",\n",
    "\"February\":\"28\",\n",
    "\"March\":\"31\",\n",
    "\"April\":\"30\",\t\n",
    "\"May\":\"31\",\t\n",
    "\"June\":\"30\",\n",
    "\"July\":\"31\",\n",
    "\"August\":\"31\",\n",
    "\"September\":\"30\",\t\n",
    "\"October\" :\"31\",\n",
    "\"November\":\"30\",\n",
    "\"December\":\"31\",}\n"
   ]
  },
  {
   "cell_type": "code",
   "execution_count": 7,
   "metadata": {},
   "outputs": [
    {
     "ename": "NameError",
     "evalue": "name 'df' is not defined",
     "output_type": "error",
     "traceback": [
      "\u001b[1;31m---------------------------------------------------------------------------\u001b[0m",
      "\u001b[1;31mNameError\u001b[0m                                 Traceback (most recent call last)",
      "\u001b[1;32mh:\\MyLearningProjects\\PythonProjects\\TextAnalysisNlp\\scratch\\filter.ipynb Cell 12'\u001b[0m in \u001b[0;36m<cell line: 1>\u001b[1;34m()\u001b[0m\n\u001b[1;32m----> <a href='vscode-notebook-cell:/h%3A/MyLearningProjects/PythonProjects/TextAnalysisNlp/scratch/filter.ipynb#ch0000011?line=0'>1</a>\u001b[0m date_\u001b[39m=\u001b[39mdf\u001b[39m.\u001b[39miloc[\u001b[39m4\u001b[39m][\u001b[39m'\u001b[39m\u001b[39mcreated_at\u001b[39m\u001b[39m'\u001b[39m]\n",
      "\u001b[1;31mNameError\u001b[0m: name 'df' is not defined"
     ]
    }
   ],
   "source": [
    "date_=df.iloc[4]['created_at']"
   ]
  },
  {
   "cell_type": "code",
   "execution_count": 8,
   "metadata": {},
   "outputs": [],
   "source": [
    "date_ ='2022-02-28T17:07:05.000Z'\n"
   ]
  },
  {
   "cell_type": "code",
   "execution_count": 9,
   "metadata": {},
   "outputs": [],
   "source": [
    "# date_ = \"2022-04-28T07:41:48.000Z\""
   ]
  },
  {
   "cell_type": "code",
   "execution_count": 10,
   "metadata": {},
   "outputs": [],
   "source": [
    "from dateutil import parser\n",
    "yourdate = parser.parse(date_)"
   ]
  },
  {
   "cell_type": "code",
   "execution_count": 11,
   "metadata": {},
   "outputs": [],
   "source": [
    "# (\"%A,%B,%Y\") ='Monday,March,2022'\n",
    "month = yourdate.strftime(\"%B\")"
   ]
  },
  {
   "cell_type": "code",
   "execution_count": 14,
   "metadata": {},
   "outputs": [
    {
     "name": "stdout",
     "output_type": "stream",
     "text": [
      "February month has 28 days\n"
     ]
    }
   ],
   "source": [
    "week = 0\n",
    "for k,v in days.items():\n",
    "    if k == month:\n",
    "        week += int(days[k])\n",
    "print(f\"{month} month has {week} days\")"
   ]
  },
  {
   "cell_type": "code",
   "execution_count": 15,
   "metadata": {},
   "outputs": [],
   "source": [
    "import datetime\n",
    "start_date = datetime.datetime.now() - datetime.timedelta(week)"
   ]
  },
  {
   "cell_type": "code",
   "execution_count": 18,
   "metadata": {},
   "outputs": [
    {
     "data": {
      "text/plain": [
       "datetime.datetime(2022, 4, 7, 12, 4, 25, 392959)"
      ]
     },
     "execution_count": 18,
     "metadata": {},
     "output_type": "execute_result"
    }
   ],
   "source": [
    "datetime.datetime.now()"
   ]
  },
  {
   "cell_type": "code",
   "execution_count": 19,
   "metadata": {},
   "outputs": [
    {
     "data": {
      "text/plain": [
       "datetime.datetime(2022, 3, 10, 12, 3, 46, 213010)"
      ]
     },
     "execution_count": 19,
     "metadata": {},
     "output_type": "execute_result"
    }
   ],
   "source": [
    "start_date"
   ]
  },
  {
   "cell_type": "code",
   "execution_count": 16,
   "metadata": {},
   "outputs": [
    {
     "data": {
      "text/plain": [
       "'10-March-2022'"
      ]
     },
     "execution_count": 16,
     "metadata": {},
     "output_type": "execute_result"
    }
   ],
   "source": [
    "start_date.strftime(\"%d-%B-%Y\")"
   ]
  },
  {
   "cell_type": "code",
   "execution_count": 75,
   "metadata": {},
   "outputs": [
    {
     "data": {
      "text/plain": [
       "'04/28/22|07:41:48'"
      ]
     },
     "execution_count": 75,
     "metadata": {},
     "output_type": "execute_result"
    }
   ],
   "source": [
    "yourdate.strftime(\"%D|%T\")"
   ]
  },
  {
   "cell_type": "code",
   "execution_count": 76,
   "metadata": {},
   "outputs": [
    {
     "data": {
      "text/plain": [
       "'April/Thursday/2022, 07:41:48'"
      ]
     },
     "execution_count": 76,
     "metadata": {},
     "output_type": "execute_result"
    }
   ],
   "source": [
    "yourdate.strftime(\"%B/%A/%Y, %H:%M:%S\")"
   ]
  },
  {
   "cell_type": "code",
   "execution_count": null,
   "metadata": {},
   "outputs": [],
   "source": []
  }
 ],
 "metadata": {
  "interpreter": {
   "hash": "d2645df59491937feb1650e8cf1127f60eb89a27cfc06b6d2b237447f60be989"
  },
  "kernelspec": {
   "display_name": "Python 3.9.7 ('venv': venv)",
   "language": "python",
   "name": "python3"
  },
  "language_info": {
   "codemirror_mode": {
    "name": "ipython",
    "version": 3
   },
   "file_extension": ".py",
   "mimetype": "text/x-python",
   "name": "python",
   "nbconvert_exporter": "python",
   "pygments_lexer": "ipython3",
   "version": "3.9.9"
  },
  "orig_nbformat": 4
 },
 "nbformat": 4,
 "nbformat_minor": 2
}
